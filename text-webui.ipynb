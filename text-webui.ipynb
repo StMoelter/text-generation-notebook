{
 "cells": [
  {
   "cell_type": "code",
   "execution_count": null,
   "metadata": {},
   "outputs": [],
   "source": [
    "import os\n",
    "use_google_drive = False #@param {type:\"boolean\"}\n",
    "commit = '3c076c3' #@param {type:\"string\"}\n",
    "username = 'a' #@param {type:\"string\"}\n",
    "password = 'a' #@param {type:\"string\"}\n",
    "ngrok_token = '' #@param {type: \"string\"}\n",
    "repo_dir = 'text-generation-webui'\n",
    "commit_file = f'{repo_dir}/commit.txt' \n",
    "\n",
    "\n",
    "def download_webui():\n",
    "    !curl https://github.com/oobabooga/text-generation-webui/archive/{commit}.zip -L -s -o text-generation-webui.zip\n",
    "    !unzip -q text-generation-webui.zip\n",
    "    !rm -rf {repo_dir}\n",
    "    !mv text-generation-webui-* {repo_dir}\n",
    "    !echo {commit} > {commit_file}\n",
    "    !rm text-generation-webui.zip\n",
    "\n",
    "workdir =  '/content'\n",
    "\n",
    "if use_google_drive:\n",
    "    from google.colab import drive\n",
    "    drive.mount('/content/drive')\n",
    "    workdir = '/content/drive/MyDrive'\n",
    "\n",
    "%cd {workdir}\n",
    "\n",
    "if os.path.isdir(repo_dir):\n",
    "    old_commit = open(commit_file, 'r').read()\n",
    "    if old_commit != commit:\n",
    "        download_webui()\n",
    "else:\n",
    "    download_webui()\n",
    "\n",
    "%cd {repo_dir}\n",
    "%pip install -q -r requirements.txt\n",
    "\n",
    "args = ''\n",
    "\n",
    "if ngrok_token != '':\n",
    "    %pip install pyngrok\n",
    "    args += f' --ngrok_token {ngrok_token} '\n",
    "else:\n",
    "    args += ' --share '\n",
    "\n",
    "if username and password:\n",
    "  args += f' --gradio-auth {username}:{password} '\n",
    "\n",
    "!python server.py {args}\n"
   ]
  }
 ],
 "metadata": {
  "kernelspec": {
   "display_name": "Python 3",
   "language": "python",
   "name": "python3"
  },
  "language_info": {
   "codemirror_mode": {
    "name": "ipython",
    "version": 3
   },
   "file_extension": ".py",
   "mimetype": "text/x-python",
   "name": "python",
   "nbconvert_exporter": "python",
   "pygments_lexer": "ipython3",
   "version": "3.11.4"
  },
  "orig_nbformat": 4
 },
 "nbformat": 4,
 "nbformat_minor": 2
}
